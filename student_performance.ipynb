{
  "nbformat": 4,
  "nbformat_minor": 0,
  "metadata": {
    "colab": {
      "provenance": []
    },
    "kernelspec": {
      "name": "python3",
      "display_name": "Python 3"
    },
    "language_info": {
      "name": "python"
    }
  },
  "cells": [
    {
      "cell_type": "code",
      "execution_count": null,
      "metadata": {
        "colab": {
          "base_uri": "https://localhost:8080/"
        },
        "id": "i-tDkTY1Ov45",
        "outputId": "b15e4140-dd90-4431-88e7-4a532d3afd39"
      },
      "outputs": [
        {
          "output_type": "stream",
          "name": "stdout",
          "text": [
            "Requirement already satisfied: pandas in /usr/local/lib/python3.11/dist-packages (2.2.2)\n",
            "Requirement already satisfied: numpy>=1.23.2 in /usr/local/lib/python3.11/dist-packages (from pandas) (1.26.4)\n",
            "Requirement already satisfied: python-dateutil>=2.8.2 in /usr/local/lib/python3.11/dist-packages (from pandas) (2.8.2)\n",
            "Requirement already satisfied: pytz>=2020.1 in /usr/local/lib/python3.11/dist-packages (from pandas) (2024.2)\n",
            "Requirement already satisfied: tzdata>=2022.7 in /usr/local/lib/python3.11/dist-packages (from pandas) (2024.2)\n",
            "Requirement already satisfied: six>=1.5 in /usr/local/lib/python3.11/dist-packages (from python-dateutil>=2.8.2->pandas) (1.17.0)\n"
          ]
        }
      ],
      "source": [
        "pip install pandas"
      ]
    },
    {
      "cell_type": "code",
      "source": [
        "pip install numpy"
      ],
      "metadata": {
        "colab": {
          "base_uri": "https://localhost:8080/"
        },
        "id": "KlRXXYeUWMBy",
        "outputId": "fd35e477-7b40-43f8-9a52-534235bc2a79"
      },
      "execution_count": null,
      "outputs": [
        {
          "output_type": "stream",
          "name": "stdout",
          "text": [
            "Requirement already satisfied: numpy in /usr/local/lib/python3.11/dist-packages (1.26.4)\n"
          ]
        }
      ]
    },
    {
      "cell_type": "code",
      "source": [
        "pip install matplotlip"
      ],
      "metadata": {
        "colab": {
          "base_uri": "https://localhost:8080/"
        },
        "id": "eq1FyIgUWOST",
        "outputId": "23677910-ed91-40e3-fe26-158100930789"
      },
      "execution_count": null,
      "outputs": [
        {
          "output_type": "stream",
          "name": "stdout",
          "text": [
            "Collecting matplotlip\n",
            "  Downloading matplotlip-0.2-py3-none-any.whl.metadata (700 bytes)\n",
            "Downloading matplotlip-0.2-py3-none-any.whl (1.8 kB)\n",
            "Installing collected packages: matplotlip\n",
            "Successfully installed matplotlip-0.2\n"
          ]
        }
      ]
    },
    {
      "cell_type": "code",
      "source": [
        "from google.colab import files\n",
        "uploaded = files.upload()\n"
      ],
      "metadata": {
        "colab": {
          "base_uri": "https://localhost:8080/",
          "height": 73
        },
        "id": "XC-5BjjLWSc_",
        "outputId": "f3b16df0-dcb4-4156-8f71-91b7a852fa3b"
      },
      "execution_count": null,
      "outputs": [
        {
          "output_type": "display_data",
          "data": {
            "text/plain": [
              "<IPython.core.display.HTML object>"
            ],
            "text/html": [
              "\n",
              "     <input type=\"file\" id=\"files-01d6de19-8105-4697-959e-5ca80835d873\" name=\"files[]\" multiple disabled\n",
              "        style=\"border:none\" />\n",
              "     <output id=\"result-01d6de19-8105-4697-959e-5ca80835d873\">\n",
              "      Upload widget is only available when the cell has been executed in the\n",
              "      current browser session. Please rerun this cell to enable.\n",
              "      </output>\n",
              "      <script>// Copyright 2017 Google LLC\n",
              "//\n",
              "// Licensed under the Apache License, Version 2.0 (the \"License\");\n",
              "// you may not use this file except in compliance with the License.\n",
              "// You may obtain a copy of the License at\n",
              "//\n",
              "//      http://www.apache.org/licenses/LICENSE-2.0\n",
              "//\n",
              "// Unless required by applicable law or agreed to in writing, software\n",
              "// distributed under the License is distributed on an \"AS IS\" BASIS,\n",
              "// WITHOUT WARRANTIES OR CONDITIONS OF ANY KIND, either express or implied.\n",
              "// See the License for the specific language governing permissions and\n",
              "// limitations under the License.\n",
              "\n",
              "/**\n",
              " * @fileoverview Helpers for google.colab Python module.\n",
              " */\n",
              "(function(scope) {\n",
              "function span(text, styleAttributes = {}) {\n",
              "  const element = document.createElement('span');\n",
              "  element.textContent = text;\n",
              "  for (const key of Object.keys(styleAttributes)) {\n",
              "    element.style[key] = styleAttributes[key];\n",
              "  }\n",
              "  return element;\n",
              "}\n",
              "\n",
              "// Max number of bytes which will be uploaded at a time.\n",
              "const MAX_PAYLOAD_SIZE = 100 * 1024;\n",
              "\n",
              "function _uploadFiles(inputId, outputId) {\n",
              "  const steps = uploadFilesStep(inputId, outputId);\n",
              "  const outputElement = document.getElementById(outputId);\n",
              "  // Cache steps on the outputElement to make it available for the next call\n",
              "  // to uploadFilesContinue from Python.\n",
              "  outputElement.steps = steps;\n",
              "\n",
              "  return _uploadFilesContinue(outputId);\n",
              "}\n",
              "\n",
              "// This is roughly an async generator (not supported in the browser yet),\n",
              "// where there are multiple asynchronous steps and the Python side is going\n",
              "// to poll for completion of each step.\n",
              "// This uses a Promise to block the python side on completion of each step,\n",
              "// then passes the result of the previous step as the input to the next step.\n",
              "function _uploadFilesContinue(outputId) {\n",
              "  const outputElement = document.getElementById(outputId);\n",
              "  const steps = outputElement.steps;\n",
              "\n",
              "  const next = steps.next(outputElement.lastPromiseValue);\n",
              "  return Promise.resolve(next.value.promise).then((value) => {\n",
              "    // Cache the last promise value to make it available to the next\n",
              "    // step of the generator.\n",
              "    outputElement.lastPromiseValue = value;\n",
              "    return next.value.response;\n",
              "  });\n",
              "}\n",
              "\n",
              "/**\n",
              " * Generator function which is called between each async step of the upload\n",
              " * process.\n",
              " * @param {string} inputId Element ID of the input file picker element.\n",
              " * @param {string} outputId Element ID of the output display.\n",
              " * @return {!Iterable<!Object>} Iterable of next steps.\n",
              " */\n",
              "function* uploadFilesStep(inputId, outputId) {\n",
              "  const inputElement = document.getElementById(inputId);\n",
              "  inputElement.disabled = false;\n",
              "\n",
              "  const outputElement = document.getElementById(outputId);\n",
              "  outputElement.innerHTML = '';\n",
              "\n",
              "  const pickedPromise = new Promise((resolve) => {\n",
              "    inputElement.addEventListener('change', (e) => {\n",
              "      resolve(e.target.files);\n",
              "    });\n",
              "  });\n",
              "\n",
              "  const cancel = document.createElement('button');\n",
              "  inputElement.parentElement.appendChild(cancel);\n",
              "  cancel.textContent = 'Cancel upload';\n",
              "  const cancelPromise = new Promise((resolve) => {\n",
              "    cancel.onclick = () => {\n",
              "      resolve(null);\n",
              "    };\n",
              "  });\n",
              "\n",
              "  // Wait for the user to pick the files.\n",
              "  const files = yield {\n",
              "    promise: Promise.race([pickedPromise, cancelPromise]),\n",
              "    response: {\n",
              "      action: 'starting',\n",
              "    }\n",
              "  };\n",
              "\n",
              "  cancel.remove();\n",
              "\n",
              "  // Disable the input element since further picks are not allowed.\n",
              "  inputElement.disabled = true;\n",
              "\n",
              "  if (!files) {\n",
              "    return {\n",
              "      response: {\n",
              "        action: 'complete',\n",
              "      }\n",
              "    };\n",
              "  }\n",
              "\n",
              "  for (const file of files) {\n",
              "    const li = document.createElement('li');\n",
              "    li.append(span(file.name, {fontWeight: 'bold'}));\n",
              "    li.append(span(\n",
              "        `(${file.type || 'n/a'}) - ${file.size} bytes, ` +\n",
              "        `last modified: ${\n",
              "            file.lastModifiedDate ? file.lastModifiedDate.toLocaleDateString() :\n",
              "                                    'n/a'} - `));\n",
              "    const percent = span('0% done');\n",
              "    li.appendChild(percent);\n",
              "\n",
              "    outputElement.appendChild(li);\n",
              "\n",
              "    const fileDataPromise = new Promise((resolve) => {\n",
              "      const reader = new FileReader();\n",
              "      reader.onload = (e) => {\n",
              "        resolve(e.target.result);\n",
              "      };\n",
              "      reader.readAsArrayBuffer(file);\n",
              "    });\n",
              "    // Wait for the data to be ready.\n",
              "    let fileData = yield {\n",
              "      promise: fileDataPromise,\n",
              "      response: {\n",
              "        action: 'continue',\n",
              "      }\n",
              "    };\n",
              "\n",
              "    // Use a chunked sending to avoid message size limits. See b/62115660.\n",
              "    let position = 0;\n",
              "    do {\n",
              "      const length = Math.min(fileData.byteLength - position, MAX_PAYLOAD_SIZE);\n",
              "      const chunk = new Uint8Array(fileData, position, length);\n",
              "      position += length;\n",
              "\n",
              "      const base64 = btoa(String.fromCharCode.apply(null, chunk));\n",
              "      yield {\n",
              "        response: {\n",
              "          action: 'append',\n",
              "          file: file.name,\n",
              "          data: base64,\n",
              "        },\n",
              "      };\n",
              "\n",
              "      let percentDone = fileData.byteLength === 0 ?\n",
              "          100 :\n",
              "          Math.round((position / fileData.byteLength) * 100);\n",
              "      percent.textContent = `${percentDone}% done`;\n",
              "\n",
              "    } while (position < fileData.byteLength);\n",
              "  }\n",
              "\n",
              "  // All done.\n",
              "  yield {\n",
              "    response: {\n",
              "      action: 'complete',\n",
              "    }\n",
              "  };\n",
              "}\n",
              "\n",
              "scope.google = scope.google || {};\n",
              "scope.google.colab = scope.google.colab || {};\n",
              "scope.google.colab._files = {\n",
              "  _uploadFiles,\n",
              "  _uploadFilesContinue,\n",
              "};\n",
              "})(self);\n",
              "</script> "
            ]
          },
          "metadata": {}
        },
        {
          "output_type": "stream",
          "name": "stdout",
          "text": [
            "Saving student_performance.csv to student_performance.csv\n"
          ]
        }
      ]
    },
    {
      "cell_type": "code",
      "source": [
        "import pandas as pd\n",
        "df = pd.read_csv('student_performance.csv')\n",
        "print(df.head())\n"
      ],
      "metadata": {
        "colab": {
          "base_uri": "https://localhost:8080/"
        },
        "id": "XFFdlGVBXFVy",
        "outputId": "bbb22932-af16-48b1-acf4-dd4f2424e2a1"
      },
      "execution_count": null,
      "outputs": [
        {
          "output_type": "stream",
          "name": "stdout",
          "text": [
            "   StudentID  G1  G2  G3      Mjob     Fjob  age address  studytime  failures  \\\n",
            "0          1   6   2   2   teacher  at_home   21   rural          3         1   \n",
            "1          2  19  11  18    health  teacher   18   rural          1         1   \n",
            "2          3  14   7  19    health    other   20   urban          1         1   \n",
            "3          4  10   2   6  services   health   21   urban          3         1   \n",
            "4          5   7   0  19    health   health   18   rural          4         1   \n",
            "\n",
            "  schoolsup famsup paid activities nursery higher internet romantic  \n",
            "0        no    yes  yes        yes     yes    yes       no      yes  \n",
            "1        no     no   no         no     yes     no       no       no  \n",
            "2       yes    yes  yes         no      no     no      yes      yes  \n",
            "3       yes     no  yes         no     yes     no       no       no  \n",
            "4        no     no  yes         no     yes    yes      yes       no  \n"
          ]
        }
      ]
    },
    {
      "cell_type": "code",
      "source": [
        "print(\"Statistical Summary:\")\n",
        "print(df.describe(include='all'))"
      ],
      "metadata": {
        "colab": {
          "base_uri": "https://localhost:8080/"
        },
        "id": "XjSaDAjCZHEm",
        "outputId": "751be990-234a-4f7f-9ce6-04cba5f99876"
      },
      "execution_count": null,
      "outputs": [
        {
          "output_type": "stream",
          "name": "stdout",
          "text": [
            "Statistical Summary:\n",
            "         StudentID          G1          G2          G3    Mjob     Fjob  \\\n",
            "count   100.000000  100.000000  100.000000  100.000000     100      100   \n",
            "unique         NaN         NaN         NaN         NaN       5        5   \n",
            "top            NaN         NaN         NaN         NaN  health  teacher   \n",
            "freq           NaN         NaN         NaN         NaN      28       23   \n",
            "mean     50.500000    9.010000    8.710000    9.070000     NaN      NaN   \n",
            "std      29.011492    5.535003    6.107282    6.629068     NaN      NaN   \n",
            "min       1.000000    0.000000    0.000000    0.000000     NaN      NaN   \n",
            "25%      25.750000    4.750000    3.750000    2.000000     NaN      NaN   \n",
            "50%      50.500000    8.500000    8.000000    8.000000     NaN      NaN   \n",
            "75%      75.250000   14.000000   14.000000   15.000000     NaN      NaN   \n",
            "max     100.000000   19.000000   19.000000   19.000000     NaN      NaN   \n",
            "\n",
            "               age address  studytime    failures schoolsup famsup paid  \\\n",
            "count   100.000000     100  100.00000  100.000000       100    100  100   \n",
            "unique         NaN       2        NaN         NaN         2      2    2   \n",
            "top            NaN   rural        NaN         NaN       yes     no  yes   \n",
            "freq           NaN      54        NaN         NaN        52     53   56   \n",
            "mean     18.180000     NaN    2.21000    1.380000       NaN    NaN  NaN   \n",
            "std       1.940426     NaN    1.06643    1.080404       NaN    NaN  NaN   \n",
            "min      15.000000     NaN    1.00000    0.000000       NaN    NaN  NaN   \n",
            "25%      16.750000     NaN    1.00000    0.000000       NaN    NaN  NaN   \n",
            "50%      18.000000     NaN    2.00000    1.000000       NaN    NaN  NaN   \n",
            "75%      20.000000     NaN    3.00000    2.000000       NaN    NaN  NaN   \n",
            "max      21.000000     NaN    4.00000    3.000000       NaN    NaN  NaN   \n",
            "\n",
            "       activities nursery higher internet romantic  \n",
            "count         100     100    100      100      100  \n",
            "unique          2       2      2        2        2  \n",
            "top            no     yes    yes       no      yes  \n",
            "freq           54      57     54       54       57  \n",
            "mean          NaN     NaN    NaN      NaN      NaN  \n",
            "std           NaN     NaN    NaN      NaN      NaN  \n",
            "min           NaN     NaN    NaN      NaN      NaN  \n",
            "25%           NaN     NaN    NaN      NaN      NaN  \n",
            "50%           NaN     NaN    NaN      NaN      NaN  \n",
            "75%           NaN     NaN    NaN      NaN      NaN  \n",
            "max           NaN     NaN    NaN      NaN      NaN  \n"
          ]
        }
      ]
    },
    {
      "cell_type": "code",
      "source": [
        "print(\"\\nColumn Data Types and Info:\")\n",
        "print(df.info())"
      ],
      "metadata": {
        "colab": {
          "base_uri": "https://localhost:8080/"
        },
        "id": "rm4zJFGRZdHS",
        "outputId": "f4d60d5c-f5c4-4bd4-8660-6b59a8b5083c"
      },
      "execution_count": null,
      "outputs": [
        {
          "output_type": "stream",
          "name": "stdout",
          "text": [
            "\n",
            "Column Data Types and Info:\n",
            "<class 'pandas.core.frame.DataFrame'>\n",
            "RangeIndex: 100 entries, 0 to 99\n",
            "Data columns (total 18 columns):\n",
            " #   Column      Non-Null Count  Dtype \n",
            "---  ------      --------------  ----- \n",
            " 0   StudentID   100 non-null    int64 \n",
            " 1   G1          100 non-null    int64 \n",
            " 2   G2          100 non-null    int64 \n",
            " 3   G3          100 non-null    int64 \n",
            " 4   Mjob        100 non-null    object\n",
            " 5   Fjob        100 non-null    object\n",
            " 6   age         100 non-null    int64 \n",
            " 7   address     100 non-null    object\n",
            " 8   studytime   100 non-null    int64 \n",
            " 9   failures    100 non-null    int64 \n",
            " 10  schoolsup   100 non-null    object\n",
            " 11  famsup      100 non-null    object\n",
            " 12  paid        100 non-null    object\n",
            " 13  activities  100 non-null    object\n",
            " 14  nursery     100 non-null    object\n",
            " 15  higher      100 non-null    object\n",
            " 16  internet    100 non-null    object\n",
            " 17  romantic    100 non-null    object\n",
            "dtypes: int64(7), object(11)\n",
            "memory usage: 14.2+ KB\n",
            "None\n"
          ]
        }
      ]
    },
    {
      "cell_type": "code",
      "source": [
        "missing_data_rows = df[df.isnull().any(axis=1)]"
      ],
      "metadata": {
        "id": "GuaOX-GHZiwT"
      },
      "execution_count": null,
      "outputs": []
    },
    {
      "cell_type": "code",
      "source": [
        "print(f\"Number of rows with missing data: {len(missing_data_rows)}\")"
      ],
      "metadata": {
        "colab": {
          "base_uri": "https://localhost:8080/"
        },
        "id": "GAMyUfT5Z53B",
        "outputId": "77f22da3-340a-4c46-c40a-345ae67fd75d"
      },
      "execution_count": null,
      "outputs": [
        {
          "output_type": "stream",
          "name": "stdout",
          "text": [
            "Number of rows with missing data: 0\n"
          ]
        }
      ]
    },
    {
      "cell_type": "code",
      "source": [
        "print(\"\\nRows with missing data:\")\n",
        "print(missing_data_rows)"
      ],
      "metadata": {
        "colab": {
          "base_uri": "https://localhost:8080/"
        },
        "id": "XDKGJeM9Z-pN",
        "outputId": "54820875-7b69-4ccd-a05e-210298330408"
      },
      "execution_count": null,
      "outputs": [
        {
          "output_type": "stream",
          "name": "stdout",
          "text": [
            "\n",
            "Rows with missing data:\n",
            "Empty DataFrame\n",
            "Columns: [StudentID, G1, G2, G3, Mjob, Fjob, age, address, studytime, failures, schoolsup, famsup, paid, activities, nursery, higher, internet, romantic]\n",
            "Index: []\n"
          ]
        }
      ]
    },
    {
      "cell_type": "code",
      "source": [],
      "metadata": {
        "id": "rX8w5mjnaCOZ"
      },
      "execution_count": null,
      "outputs": []
    }
  ]
}